{
 "cells": [
  {
   "cell_type": "markdown",
   "id": "plain-notion",
   "metadata": {},
   "source": [
    "# II. Goal\n",
    "\n",
    "## A. Ball's position"
   ]
  },
  {
   "cell_type": "code",
   "execution_count": 1,
   "id": "surrounded-illness",
   "metadata": {},
   "outputs": [],
   "source": [
    "%matplotlib tk\n",
    "import matplotlib\n",
    "import matplotlib.pyplot as plt\n",
    "import matplotlib.image as mpimg\n",
    "import numpy as np\n",
    "from mpl_toolkits.mplot3d import Axes3D\n",
    "from scipy import linalg"
   ]
  },
  {
   "cell_type": "markdown",
   "id": "altered-chrome",
   "metadata": {},
   "source": [
    "### Question 1\n",
    "\n",
    "To place a virtual ball in the origin of the reference frame we first retrieve the camera matrix M from the lab"
   ]
  },
  {
   "cell_type": "code",
   "execution_count": 2,
   "id": "statutory-train",
   "metadata": {},
   "outputs": [
    {
     "name": "stdout",
     "output_type": "stream",
     "text": [
      "[[-6.73416147e+02  5.02373125e+02  8.72863658e+03 -9.35587200e+04]\n",
      " [-1.14208360e+03  8.99624792e+03 -4.14476675e+02 -5.23856291e+04]\n",
      " [ 8.63643717e-01  4.67247264e-01 -1.89207620e-01 -6.08703535e+01]]\n"
     ]
    }
   ],
   "source": [
    "M=np.array([[-6.73416147e+02,  5.02373125e+02,  8.72863658e+03, -9.35587200e+04],\n",
    " [-1.14208360e+03 , 8.99624792e+03 ,-4.14476675e+02, -5.23856291e+04],\n",
    " [ 8.63643717e-01,  4.67247264e-01, -1.89207620e-01, -6.08703535e+01]]\n",
    ")\n",
    "print(M)"
   ]
  },
  {
   "cell_type": "markdown",
   "id": "saving-preliminary",
   "metadata": {},
   "source": [
    "Then we create our 3d point that is to say the point in the real world in homogeneous coordinate."
   ]
  },
  {
   "cell_type": "code",
   "execution_count": 3,
   "id": "patient-quebec",
   "metadata": {},
   "outputs": [
    {
     "name": "stdout",
     "output_type": "stream",
     "text": [
      "[[0]\n",
      " [0]\n",
      " [0]\n",
      " [1]]\n"
     ]
    }
   ],
   "source": [
    "u_w = np.array([[0],[0],[0],[1]]) # origin of the reference frame in homogeneous coordiante\n",
    "print(u_w)"
   ]
  },
  {
   "cell_type": "markdown",
   "id": "centered-selling",
   "metadata": {},
   "source": [
    "As in the lab we compute M times u_w to get the image position of the center of the ball in the image buffer. We don't forget to divide by the last coordinate because we are in homogeneous coordinate."
   ]
  },
  {
   "cell_type": "code",
   "execution_count": 4,
   "id": "excellent-israeli",
   "metadata": {},
   "outputs": [
    {
     "name": "stdout",
     "output_type": "stream",
     "text": [
      "Position x y of the center of the ball in the image buffer:\n",
      "[[1537.01620938]\n",
      " [ 860.60990429]]\n"
     ]
    }
   ],
   "source": [
    "u_sim=np.dot(M,u_w)\n",
    "u_sim = u_sim/u_sim[2,:]\n",
    "print(\"Position x y of the center of the ball in the image buffer:\")\n",
    "print(u_sim[:2])"
   ]
  },
  {
   "cell_type": "markdown",
   "id": "progressive-teens",
   "metadata": {},
   "source": [
    "### Question 2\n",
    "\n",
    "Now let's draw the ball using his position in the image using scatter"
   ]
  },
  {
   "cell_type": "code",
   "execution_count": 5,
   "id": "wireless-insight",
   "metadata": {},
   "outputs": [],
   "source": [
    "img=mpimg.imread('goal.jpg')\n",
    "plt.imshow(img)\n",
    "plt.scatter(u_sim[0,:],u_sim[1,:],50)\n",
    "plt.show()"
   ]
  },
  {
   "cell_type": "markdown",
   "id": "protective-study",
   "metadata": {},
   "source": [
    "The center of the reference frame is the middle of the goal line, so here the position of the ball look right."
   ]
  },
  {
   "cell_type": "markdown",
   "id": "african-banner",
   "metadata": {},
   "source": [
    "### Question 3\n",
    "\n",
    "Here we cannot obtain the 3D position of the real ball because we don't have any information of its position. If we had at least one the three coordinates, x, y or z we will be able to retrieve the 2 other positions by using M."
   ]
  },
  {
   "cell_type": "markdown",
   "id": "through-walker",
   "metadata": {},
   "source": [
    "## B. Player's position\n",
    "\n",
    "### Question 1\n",
    "\n",
    "We want to obtain the 3D positions of the players but as we explained in the last question we need at least one of the 3 coordinates and here we have y=0. So we take the camera matrix and remove the column corresponding to y. "
   ]
  },
  {
   "cell_type": "code",
   "execution_count": 6,
   "id": "tested-guess",
   "metadata": {},
   "outputs": [
    {
     "name": "stdout",
     "output_type": "stream",
     "text": [
      "(3, 3)\n"
     ]
    }
   ],
   "source": [
    "M_prime = M[:,[0,2,3]]\n",
    "print(M_prime.shape)"
   ]
  },
  {
   "cell_type": "markdown",
   "id": "polish-google",
   "metadata": {},
   "source": [
    "We get the matrix M' of dimensions 3x3"
   ]
  },
  {
   "cell_type": "markdown",
   "id": "activated-belize",
   "metadata": {},
   "source": [
    "### Question 2\n",
    "\n",
    "To be able to know if the transformation is invertible we need to see if the matrix M' is invertible. So let's test"
   ]
  },
  {
   "cell_type": "code",
   "execution_count": 7,
   "id": "enhanced-locator",
   "metadata": {},
   "outputs": [
    {
     "name": "stdout",
     "output_type": "stream",
     "text": [
      "-1065734472.3064945\n"
     ]
    }
   ],
   "source": [
    "print(np.linalg.det(M_prime))"
   ]
  },
  {
   "cell_type": "markdown",
   "id": "wound-violation",
   "metadata": {},
   "source": [
    "The determinant of M' is not equal to 0 so the matrix M' is invertible and the transformation is also invertible."
   ]
  },
  {
   "cell_type": "markdown",
   "id": "economic-opera",
   "metadata": {},
   "source": [
    "### Question 3\n",
    "\n",
    "To obtain the pixel positions of one of the feet for each of the 11 players we use the code given in the lab where we had to manually click on the image to retrieve the position."
   ]
  },
  {
   "cell_type": "code",
   "execution_count": 8,
   "id": "freelance-marshall",
   "metadata": {},
   "outputs": [],
   "source": [
    "# load image\n",
    "img=mpimg.imread('goal.jpg')\n",
    "u_im= np.array([]).reshape(0,2)"
   ]
  },
  {
   "cell_type": "markdown",
   "id": "graphic-radical",
   "metadata": {},
   "source": [
    "Here we have commented this section and we give you u_im already fill."
   ]
  },
  {
   "cell_type": "code",
   "execution_count": 9,
   "id": "proud-germany",
   "metadata": {},
   "outputs": [],
   "source": [
    "# fig,ax = plt.subplots()\n",
    "# ax.imshow(img)\n",
    "\n",
    "# If %matplotlib works properly you can\n",
    "# use the following two lines\n",
    "# Image buffer points from mouse clicks\n",
    "#u_im = np.array(plt.ginput(N,timeout=-1))\n",
    "#plt.close()\n",
    "\n",
    "# If you %matplotlib does not work properly\n",
    "# you can try the code below\n",
    "# def onclick(event):\n",
    "#     global ix, iy\n",
    "#     ix, iy = event.xdata, event.ydata\n",
    "    \n",
    "#     global u_im\n",
    "#     u_im = np.vstack((u_im,np.array([[ix,iy]])))\n",
    "\n",
    "#     if np.shape(u_im)[0] == 13:\n",
    "#         fig.canvas.mpl_disconnect(cid)\n",
    "#         plt.close()\n",
    "        \n",
    "# cid = fig.canvas.mpl_connect('button_press_event', onclick)"
   ]
  },
  {
   "cell_type": "code",
   "execution_count": 21,
   "id": "genuine-compromise",
   "metadata": {},
   "outputs": [
    {
     "name": "stdout",
     "output_type": "stream",
     "text": [
      "(11, 2)\n"
     ]
    }
   ],
   "source": [
    "u_im = np.array([[1165.98353408, 1091.9334918 ],\n",
    " [ 875.16314848 ,1083.17384163],\n",
    " [ 982.03088054,  999.08120002],\n",
    " [1120.4333532 ,  948.27522904],\n",
    " [1628.49306297 , 923.74820857],\n",
    " [1374.46320808 , 843.15942702],\n",
    " [ 351.33606841 , 943.01943894],\n",
    " [ 798.078227   , 780.08994581],\n",
    " [ 535.28872195 , 736.29169496],\n",
    " [ 142.85639441 , 571.6102718 ],\n",
    " [ 868.15542835 , 229.98391523]]\n",
    ")\n",
    "print(u_im.shape)"
   ]
  },
  {
   "cell_type": "code",
   "execution_count": 22,
   "id": "photographic-telephone",
   "metadata": {},
   "outputs": [
    {
     "name": "stdout",
     "output_type": "stream",
     "text": [
      "Position x y of one of the feet for each of the 11 players in the image :\n",
      "[[1165.98353408  875.16314848  982.03088054 1120.4333532  1628.49306297\n",
      "  1374.46320808  351.33606841  798.078227    535.28872195  142.85639441\n",
      "   868.15542835]\n",
      " [1091.9334918  1083.17384163  999.08120002  948.27522904  923.74820857\n",
      "   843.15942702  943.01943894  780.08994581  736.29169496  571.6102718\n",
      "   229.98391523]]\n",
      "(3, 11)\n"
     ]
    }
   ],
   "source": [
    "# we use homogeneous coordinate\n",
    "u_im = np.vstack((np.transpose(u_im),np.ones(11)))\n",
    "print(\"Position x y of one of the feet for each of the 11 players in the image :\")\n",
    "print(u_im[:2])\n",
    "print(u_im.shape)"
   ]
  },
  {
   "cell_type": "markdown",
   "id": "looking-myanmar",
   "metadata": {},
   "source": [
    "In the next cell we plot the image with the points that we had manually selected, we can check that the points are well choosen."
   ]
  },
  {
   "cell_type": "code",
   "execution_count": 23,
   "id": "reserved-valuation",
   "metadata": {},
   "outputs": [],
   "source": [
    "plt.imshow(img)\n",
    "plt.scatter(u_im[0,:],u_im[1,:])\n",
    "plt.show()"
   ]
  },
  {
   "cell_type": "markdown",
   "id": "moving-headline",
   "metadata": {},
   "source": [
    "### Question 4\n",
    "\n",
    "To retrieve the positions in meters in the real world of the players we need to use the inverse matrix of M' and as we see in the question 2, M' is invertible."
   ]
  },
  {
   "cell_type": "code",
   "execution_count": 27,
   "id": "exclusive-throw",
   "metadata": {},
   "outputs": [
    {
     "name": "stdout",
     "output_type": "stream",
     "text": [
      "(3, 11)\n"
     ]
    }
   ],
   "source": [
    "M_inv = np.linalg.inv(M_prime)\n",
    "\n",
    "u_w=np.dot(M_inv,u_im)\n",
    "print(np.shape(u_w))"
   ]
  },
  {
   "cell_type": "markdown",
   "id": "funky-magic",
   "metadata": {},
   "source": [
    "Now we divide by the last coordinate because we are in homogeneous coordinate and we have to add in u_w the y coordinate which is 0 here, so we insert a vector of 0."
   ]
  },
  {
   "cell_type": "code",
   "execution_count": 28,
   "id": "outdoor-suspension",
   "metadata": {},
   "outputs": [
    {
     "name": "stdout",
     "output_type": "stream",
     "text": [
      "Position of the players in the 3D space :\n",
      "[[ 6.38189047e+00  5.96735024e+00  3.70676852e+00  2.32988202e+00\n",
      "   2.00043381e+00 -6.98298659e-01  1.55304125e+00 -3.36776997e+00\n",
      "  -5.22092157e+00 -1.23588393e+01 -2.86304423e+01]\n",
      " [ 0.00000000e+00  0.00000000e+00  0.00000000e+00  0.00000000e+00\n",
      "   0.00000000e+00  0.00000000e+00  0.00000000e+00  0.00000000e+00\n",
      "   0.00000000e+00  0.00000000e+00  0.00000000e+00]\n",
      " [ 3.72199766e+00  5.48850990e+00  4.42227826e+00  3.26386897e+00\n",
      "  -1.55765813e-01  9.56256676e-01  8.37850048e+00  4.54863673e+00\n",
      "   6.23403664e+00  8.56765906e+00 -3.69469877e-03]]\n"
     ]
    }
   ],
   "source": [
    "u_w = u_w/u_w[2,:]\n",
    "u=u_w[:1]\n",
    "u=np.vstack((u,np.zeros(11)))\n",
    "u=np.vstack((u,u_w[1:,]))\n",
    "u_w=u\n",
    "print(\"Position of the players in the 3D space :\")\n",
    "print(u_w[:3])"
   ]
  },
  {
   "cell_type": "markdown",
   "id": "hired-engineering",
   "metadata": {},
   "source": [
    "We can now try to plot the points in the image using u_w that we created and using the camera matrix M"
   ]
  },
  {
   "cell_type": "code",
   "execution_count": 29,
   "id": "exempt-wildlife",
   "metadata": {},
   "outputs": [],
   "source": [
    "u_sim=np.dot(M,u_w)\n",
    "u_sim = u_sim/u_sim[2,:]\n",
    "\n",
    "img=mpimg.imread('goal.jpg')\n",
    "plt.imshow(img)\n",
    "plt.scatter(u_sim[0,:],u_sim[1,:])\n",
    "plt.show()"
   ]
  },
  {
   "cell_type": "markdown",
   "id": "peaceful-syntax",
   "metadata": {},
   "source": [
    "We see that the points corresponds to what we have manually choosen previously so the matrix M' is good.\n",
    "\n",
    "Now let's take a look about the distances as we know the dimensions of the field."
   ]
  },
  {
   "cell_type": "code",
   "execution_count": 30,
   "id": "preceding-renewal",
   "metadata": {},
   "outputs": [
    {
     "name": "stdout",
     "output_type": "stream",
     "text": [
      "Player A : position in x = 6.38m ; in z = 3.72m\n",
      "Player B : position in x = 5.97m ; in z = 5.49m\n",
      "Player C : position in x = 3.71m ; in z = 4.42m\n",
      "Player D : position in x = 2.33m ; in z = 3.26m\n",
      "Player E : position in x = 2.0m ; in z = -0.16m\n",
      "Player F : position in x = -0.7m ; in z = 0.96m\n",
      "Player G : position in x = 1.55m ; in z = 8.38m\n",
      "Player H : position in x = -3.37m ; in z = 4.55m\n",
      "Player I : position in x = -5.22m ; in z = 6.23m\n",
      "Player J : position in x = -12.36m ; in z = 8.57m\n",
      "Player K : position in x = -28.63m ; in z = -0.0m\n"
     ]
    }
   ],
   "source": [
    "alpahbet=['A','B','C','D','E','F','G','H','I','J','K']\n",
    "for i in range(u_w.shape[1]):\n",
    "    print(\"Player \"+alpahbet[i]+\" : position in x = \"+str(np.round(u_w[0][i],2))\n",
    "          +\"m\"+\" ; in z = \"+str(np.round(u_w[2][i],2))+\"m\")"
   ]
  },
  {
   "cell_type": "markdown",
   "id": "passing-queensland",
   "metadata": {},
   "source": [
    "The distances seem adequate with the dimensions of the field. If we take for example the player K, we see that we have 0m in z axis which is the case. In the x axis we have -28m and the corner is at 32.5m of the center of the goal line. So the player K who is close to the corner has a good estimation. Here it's an example but we can look for the other players and see that we have reasonable values in meter according to the dimension of the field."
   ]
  }
 ],
 "metadata": {
  "kernelspec": {
   "display_name": "Python 3",
   "language": "python",
   "name": "python3"
  },
  "language_info": {
   "codemirror_mode": {
    "name": "ipython",
    "version": 3
   },
   "file_extension": ".py",
   "mimetype": "text/x-python",
   "name": "python",
   "nbconvert_exporter": "python",
   "pygments_lexer": "ipython3",
   "version": "3.7.9"
  }
 },
 "nbformat": 4,
 "nbformat_minor": 5
}
