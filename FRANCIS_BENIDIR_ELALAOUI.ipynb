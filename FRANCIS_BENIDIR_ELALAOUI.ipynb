{
 "cells": [
  {
   "cell_type": "markdown",
   "metadata": {},
   "source": [
    "Importing modules"
   ]
  },
  {
   "cell_type": "code",
   "execution_count": 60,
   "metadata": {},
   "outputs": [],
   "source": [
    "import numpy as np\n",
    "import cv2\n",
    "import glob\n",
    "\n",
    "\n",
    "# This is a value for the termination criterion of the subpixel corner localizer\n",
    "criteria = (cv2.TERM_CRITERIA_EPS + cv2.TERM_CRITERIA_MAX_ITER, 30, 0.001)"
   ]
  },
  {
   "cell_type": "markdown",
   "metadata": {},
   "source": [
    "Creation of the 3D point coordinates and loading images"
   ]
  },
  {
   "cell_type": "code",
   "execution_count": 61,
   "metadata": {},
   "outputs": [
    {
     "name": "stdout",
     "output_type": "stream",
     "text": [
      "[[0. 0. 0.]\n",
      " [0. 0. 0.]\n",
      " [0. 0. 0.]\n",
      " [0. 0. 0.]\n",
      " [0. 0. 0.]\n",
      " [0. 0. 0.]\n",
      " [0. 0. 0.]\n",
      " [0. 0. 0.]\n",
      " [0. 0. 0.]\n",
      " [0. 0. 0.]\n",
      " [0. 0. 0.]\n",
      " [0. 0. 0.]\n",
      " [0. 0. 0.]\n",
      " [0. 0. 0.]\n",
      " [0. 0. 0.]\n",
      " [0. 0. 0.]\n",
      " [0. 0. 0.]\n",
      " [0. 0. 0.]\n",
      " [0. 0. 0.]\n",
      " [0. 0. 0.]\n",
      " [0. 0. 0.]\n",
      " [0. 0. 0.]\n",
      " [0. 0. 0.]\n",
      " [0. 0. 0.]\n",
      " [0. 0. 0.]\n",
      " [0. 0. 0.]\n",
      " [0. 0. 0.]\n",
      " [0. 0. 0.]\n",
      " [0. 0. 0.]\n",
      " [0. 0. 0.]\n",
      " [0. 0. 0.]\n",
      " [0. 0. 0.]\n",
      " [0. 0. 0.]\n",
      " [0. 0. 0.]\n",
      " [0. 0. 0.]\n",
      " [0. 0. 0.]\n",
      " [0. 0. 0.]\n",
      " [0. 0. 0.]\n",
      " [0. 0. 0.]\n",
      " [0. 0. 0.]\n",
      " [0. 0. 0.]\n",
      " [0. 0. 0.]]\n"
     ]
    }
   ],
   "source": [
    "# Here you have 3D points for the checkerboard (0,0,0), (1,0,0), (2,0,0) ....,(6,5,0)\n",
    "objp = np.zeros((6*7,3), np.float32)\n",
    "print(objp)\n",
    "objp[:,:2] = np.mgrid[0:7,0:6].T.reshape(-1,2)\n",
    "# Here you load the image files\n",
    "images = glob.glob('left/left*.jpg')"
   ]
  },
  {
   "cell_type": "markdown",
   "metadata": {},
   "source": [
    "Cell 1"
   ]
  },
  {
   "cell_type": "code",
   "execution_count": 62,
   "metadata": {},
   "outputs": [
    {
     "name": "stdout",
     "output_type": "stream",
     "text": [
      "13\n"
     ]
    }
   ],
   "source": [
    "# Arrays to store object points and image points from all the images.\n",
    "objpoints = [] # 3d point in real world space\n",
    "imgpoints = [] # 2d points in image plane.\n",
    "print(len(images))\n",
    "for fname in images:\n",
    "    img = cv2.imread(fname)\n",
    "    gray = cv2.cvtColor(img,cv2.COLOR_BGR2GRAY)\n",
    "\n",
    "    # Find the chess board corners\n",
    "    ret, corners = cv2.findChessboardCorners(gray, (7,6),None)\n",
    "\n",
    "    # If found, add object points, image points (after refining them)\n",
    "    if ret == True:\n",
    "        objpoints.append(objp)\n",
    "        corners2 = cv2.cornerSubPix(gray,corners,(11,11),(-1,-1),criteria)\n",
    "        imgpoints.append(corners2)\n",
    "        img = cv2.drawChessboardCorners(img, (7,6), corners2,ret)\n",
    "        cv2.imshow('img',img)\n",
    "        cv2.waitKey(500)\n",
    "\n",
    "\n",
    "\n",
    "cv2.destroyAllWindows()\n",
    "\n",
    "\n"
   ]
  },
  {
   "cell_type": "markdown",
   "metadata": {},
   "source": [
    "Cell 2"
   ]
  },
  {
   "cell_type": "code",
   "execution_count": 71,
   "metadata": {},
   "outputs": [],
   "source": [
    "def scaling_matrix(s):\n",
    "    # Scales are given in numpy array s\n",
    "    # s=np.array([s_x,s_y,s_z])\n",
    "    \n",
    "    # Write the scaling matrix here\n",
    "    #******************************\n",
    "    S = np.identity(4)\n",
    "    for i in range(3):\n",
    "        S[i][i] = s[i]\n",
    "    return S\n",
    "\n",
    "# Translation matrix\n",
    "def translation_matrix(t):\n",
    "    # Translation vector is given in numpy array t\n",
    "    # t=np.array([t_x,t_y,t_z])\n",
    "    \n",
    "    # Write the translation matrix here\n",
    "    #******************************\n",
    "    T = np.identity(4)\n",
    "    T[:3,3] = t\n",
    "    return T\n",
    "\n",
    "# Rotation matrix\n",
    "def rotation_matrix(theta, v):\n",
    "    # Axis for rotation (unit norm vector) is given \n",
    "    # is given in numpy array v\n",
    "    # v=np.array([v_x,v_y,v_z])\n",
    "    # Rotation angle is given in theta\n",
    "    \n",
    "    # Write the rotation matrix here\n",
    "    st = np.sin(theta)\n",
    "    ct = np.cos(theta)\n",
    "    o_ct = 1-ct\n",
    "    vx2= v[0]**2\n",
    "    vy2= v[1]**2\n",
    "    vz2= v[2]**2\n",
    "    vxy = v[0]*v[1]\n",
    "    vxz = v[0]*v[2]\n",
    "    vyz= v[1]*v[2]\n",
    "    # Rotation, Rodriguez formula :\n",
    "    R = [[ct+vx2*o_ct, vxy*o_ct-v[2]*st, vxz*o_ct+v[1]*st],\n",
    "         [vxy*o_ct+v[2]*st, ct+vy2*o_ct, vyz*o_ct-v[0]*st],\n",
    "         [vxz*o_ct-v[1]*st, vyz*o_ct+v[0]*st, ct+vz2*o_ct]]\n",
    "    R_v = np.identity(3)\n",
    "    R_v[:3, :3] = R\n",
    "    \n",
    "    return R_v"
   ]
  },
  {
   "cell_type": "code",
   "execution_count": 87,
   "metadata": {
    "scrolled": true
   },
   "outputs": [
    {
     "name": "stdout",
     "output_type": "stream",
     "text": [
      "det rotation_0 = 1.0000000000000004\n",
      "[[-9.61727018e-01 -1.01232220e-02  2.73822321e-01  3.79739146e+00]\n",
      " [-3.51069793e-02 -9.86528861e-01 -1.59775803e-01  8.98950175e-01]\n",
      " [ 2.71751068e-01 -1.63273781e-01  9.48416063e-01  1.48593055e+01]]\n",
      "det rotation_1 = 0.9999999999999999\n",
      "[[-5.72680869e-03  9.97399430e-01  7.18441364e-02 -2.89985494e+00]\n",
      " [-9.28630323e-01 -3.19567624e-02  3.69627499e-01  2.62066993e+00]\n",
      " [ 3.70962163e-01 -6.45998576e-02  9.26398366e-01  1.05769926e+01]]\n",
      "det rotation_2 = 0.9999999999999999\n",
      "[[-0.30887909  0.9501694   0.04209285 -1.22339632]\n",
      " [-0.83758618 -0.25077985 -0.48534406  3.52139948]\n",
      " [-0.45060304 -0.18516902  0.87330941 15.67311789]]\n",
      "det rotation_3 = 0.9999999999999999\n",
      "[[ 0.14620389 -0.89550824 -0.4203444   1.81888151]\n",
      " [ 0.96337408  0.22544365 -0.14520858 -4.2642919 ]\n",
      " [ 0.22479946 -0.38371885  0.89567017 12.45728517]]\n",
      "det rotation_4 = 0.9999999999999998 \n",
      "\n",
      "[[ 0.09449387  0.97566706  0.19785017 -2.12419184]\n",
      " [-0.75316188  0.20002654 -0.62668698  1.84550818]\n",
      " [-0.65101313 -0.08979513  0.75373652 12.81229187]]\n"
     ]
    }
   ],
   "source": [
    "ret, mtx, dist, rvecs, tvecs = cv2.calibrateCamera(objpoints, imgpoints, gray.shape[::-1],None,None)\n",
    "\n",
    "#the rvec is a vector representing the rotation axis, and its length encodes the angle in radians to rotate. \n",
    "#the Rodrigues method turns such a rotation vector into a 3x3 matrix.\n",
    "\n",
    "# in total we have 11 pictures the value of ret ~0.1 so we have a good calibration\n",
    "\n",
    "# To find the rotation matrix for each picture we simply applies the rodriguez formula seen in TD2.\n",
    "\n",
    "# once we have the rotation matrix of ONE rvecs vector(because rvecs is a vector of rotations vectors, for each of our\n",
    "# 11 patenrs). We use the rodriguez formula to find the rotation matrix, and once we have it we add the translation\n",
    "# vector (in tvecs which represtents a vector of translation vectors for each pattern/picture), to create our \n",
    "# extrinsic matrix for one pattern. And we rpeate this procedure for each pattern\n",
    "\n",
    "\n",
    "\n",
    "# test\n",
    "\n",
    "angle = len(rvecs[0])*0.01 # pourquoi *0.01 ? parce que c'étais marque dans le TD2 et j'ai copié/collé\n",
    "\n",
    "rotation_0,_ = cv2.Rodrigues(rvecs[0])\n",
    "print(\"det rotation_0 =\",np.linalg.det(rotation_0))\n",
    "M_ext_0 = np.array(np.hstack((rotation_0,tvecs[0])),dtype=float)\n",
    "print(M_ext_0)\n",
    "\n",
    "angle = len(rvecs[1])*0.01\n",
    "\n",
    "rotation_1,_= cv2.Rodrigues(rvecs[1])\n",
    "print(\"det rotation_1 =\",np.linalg.det(rotation_1))\n",
    "M_ext_1 = np.array(np.hstack((rotation_1,tvecs[1])),dtype=float)\n",
    "print(M_ext_1)\n",
    "\n",
    "angle = len(rvecs[2])*0.01\n",
    "\n",
    "rotation_2,_ = cv2.Rodrigues( rvecs[2])\n",
    "print(\"det rotation_2 =\",np.linalg.det(rotation_2))\n",
    "M_ext_2 = np.array(np.hstack((rotation_2,tvecs[2])),dtype=float)\n",
    "print(M_ext_2)\n",
    "\n",
    "\n",
    "angle = len(rvecs[3])*0.01\n",
    "\n",
    "rotation_3,_= cv2.Rodrigues(rvecs[3])\n",
    "print(\"det rotation_3 =\",np.linalg.det(rotation_3))\n",
    "M_ext_3 = np.array(np.hstack((rotation_3,tvecs[3])),dtype=float)\n",
    "print(M_ext_3)\n",
    "\n",
    "angle = len(rvecs[4])*0.01\n",
    "\n",
    "rotation_4,_ = cv2.Rodrigues(rvecs[4])\n",
    "print(\"det rotation_4 =\",np.linalg.det(rotation_4),\"\\n\")\n",
    "M_ext_4 = np.array(np.hstack((rotation_4,tvecs[4])),dtype=float)\n",
    "print(M_ext_4)\n",
    "\n",
    "# ...\n",
    "\n"
   ]
  },
  {
   "cell_type": "markdown",
   "metadata": {},
   "source": [
    "Camera matrix refinement"
   ]
  },
  {
   "cell_type": "code",
   "execution_count": 79,
   "metadata": {},
   "outputs": [],
   "source": [
    "img = cv2.imread('left/left12.jpg')\n",
    "h,  w = img.shape[:2]\n",
    "newcameramtx, roi=cv2.getOptimalNewCameraMatrix(mtx,dist,(w,h),1,(w,h))"
   ]
  },
  {
   "cell_type": "markdown",
   "metadata": {},
   "source": [
    "Cell 3"
   ]
  },
  {
   "cell_type": "code",
   "execution_count": 81,
   "metadata": {},
   "outputs": [
    {
     "data": {
      "text/plain": [
       "True"
      ]
     },
     "execution_count": 81,
     "metadata": {},
     "output_type": "execute_result"
    }
   ],
   "source": [
    "# 1\n",
    "dst = cv2.undistort(img, mtx, dist, None, newcameramtx)\n",
    "\n",
    "# crop the image\n",
    "x,y,w,h = roi\n",
    "dst = dst[y:y+h, x:x+w]\n",
    "cv2.imwrite('calibresult1.png',dst)\n",
    "\n",
    "# 2\n",
    "mapx,mapy = cv2.initUndistortRectifyMap(mtx,dist,None,newcameramtx,(w,h),5)\n",
    "dst = cv2.remap(img,mapx,mapy,cv2.INTER_LINEAR)\n",
    "\n",
    "# crop the image\n",
    "x,y,w,h = roi\n",
    "dst = dst[y:y+h, x:x+w]\n",
    "cv2.imwrite('calibresult2.png',dst)"
   ]
  },
  {
   "cell_type": "markdown",
   "metadata": {},
   "source": [
    "Cell 4"
   ]
  },
  {
   "cell_type": "markdown",
   "metadata": {},
   "source": [
    "this cell computes the rate of error of finding corners and calibrating pattern. When this value approaches 0\n",
    "this will mean that there are no errors and the calibration was perfect. This implies that cv.findChessboardCorners(...) shall alwayes return true."
   ]
  },
  {
   "cell_type": "code",
   "execution_count": 88,
   "metadata": {},
   "outputs": [
    {
     "name": "stdout",
     "output_type": "stream",
     "text": [
      "total error:  0.023686000375385673\n"
     ]
    }
   ],
   "source": [
    "tot_error = 0\n",
    "for i in range(len(objpoints)):\n",
    "    imgpoints2, _ = cv2.projectPoints(objpoints[i], rvecs[i], tvecs[i], mtx, dist)\n",
    "    error = cv2.norm(imgpoints[i],imgpoints2, cv2.NORM_L2)/len(imgpoints2)\n",
    "    tot_error += error\n",
    "\n",
    "print(\"total error: \", tot_error/len(objpoints))"
   ]
  },
  {
   "cell_type": "code",
   "execution_count": null,
   "metadata": {},
   "outputs": [],
   "source": []
  },
  {
   "cell_type": "code",
   "execution_count": null,
   "metadata": {},
   "outputs": [],
   "source": []
  },
  {
   "cell_type": "code",
   "execution_count": null,
   "metadata": {},
   "outputs": [],
   "source": []
  }
 ],
 "metadata": {
  "anaconda-cloud": {},
  "kernelspec": {
   "display_name": "Python 3",
   "language": "python",
   "name": "python3"
  },
  "language_info": {
   "codemirror_mode": {
    "name": "ipython",
    "version": 3
   },
   "file_extension": ".py",
   "mimetype": "text/x-python",
   "name": "python",
   "nbconvert_exporter": "python",
   "pygments_lexer": "ipython3",
   "version": "3.8.5"
  },
  "toc": {
   "colors": {
    "hover_highlight": "#DAA520",
    "running_highlight": "#FF0000",
    "selected_highlight": "#FFD700"
   },
   "moveMenuLeft": true,
   "nav_menu": {
    "height": "12px",
    "width": "252px"
   },
   "navigate_menu": true,
   "number_sections": true,
   "sideBar": true,
   "threshold": 4,
   "toc_cell": false,
   "toc_section_display": "block",
   "toc_window_display": false,
   "widenNotebook": false
  }
 },
 "nbformat": 4,
 "nbformat_minor": 1
}
